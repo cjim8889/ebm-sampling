{
 "cells": [
  {
   "cell_type": "code",
   "execution_count": 1,
   "metadata": {},
   "outputs": [
    {
     "name": "stdout",
     "output_type": "stream",
     "text": [
      "\u001b[2K\u001b[2mResolved \u001b[1m12 packages\u001b[0m in 98ms\u001b[0m                                                 \u001b[0m\n",
      "\u001b[2K\u001b[2mInstalled \u001b[1m11 packages\u001b[0m in 398ms\u001b[0m                                      \u001b[0m\n",
      " \u001b[32m+\u001b[39m \u001b[1mfilelock\u001b[0m\u001b[2m==3.15.4\u001b[0m\n",
      " \u001b[32m+\u001b[39m \u001b[1mfsspec\u001b[0m\u001b[2m==2024.6.1\u001b[0m\n",
      " \u001b[32m+\u001b[39m \u001b[1mjinja2\u001b[0m\u001b[2m==3.1.4\u001b[0m\n",
      " \u001b[32m+\u001b[39m \u001b[1mmarkupsafe\u001b[0m\u001b[2m==2.1.5\u001b[0m\n",
      " \u001b[32m+\u001b[39m \u001b[1mmpmath\u001b[0m\u001b[2m==1.3.0\u001b[0m\n",
      " \u001b[32m+\u001b[39m \u001b[1mnetworkx\u001b[0m\u001b[2m==3.3\u001b[0m\n",
      " \u001b[32m+\u001b[39m \u001b[1mnumpy\u001b[0m\u001b[2m==2.1.0\u001b[0m\n",
      " \u001b[32m+\u001b[39m \u001b[1mpillow\u001b[0m\u001b[2m==10.4.0\u001b[0m\n",
      " \u001b[32m+\u001b[39m \u001b[1msympy\u001b[0m\u001b[2m==1.13.2\u001b[0m\n",
      " \u001b[32m+\u001b[39m \u001b[1mtorch\u001b[0m\u001b[2m==2.4.0\u001b[0m\n",
      " \u001b[32m+\u001b[39m \u001b[1mtorchvision\u001b[0m\u001b[2m==0.19.0\u001b[0m\n",
      "\u001b[2K\u001b[2mResolved \u001b[1m26 packages\u001b[0m in 192ms\u001b[0m                                                \u001b[0m\n",
      "\u001b[2K\u001b[2mInstalled \u001b[1m15 packages\u001b[0m in 41ms\u001b[0mning==2.4.0                            \u001b[0m\n",
      " \u001b[32m+\u001b[39m \u001b[1maiohappyeyeballs\u001b[0m\u001b[2m==2.4.0\u001b[0m\n",
      " \u001b[32m+\u001b[39m \u001b[1maiohttp\u001b[0m\u001b[2m==3.10.5\u001b[0m\n",
      " \u001b[32m+\u001b[39m \u001b[1maiosignal\u001b[0m\u001b[2m==1.3.1\u001b[0m\n",
      " \u001b[32m+\u001b[39m \u001b[1mattrs\u001b[0m\u001b[2m==24.2.0\u001b[0m\n",
      " \u001b[32m+\u001b[39m \u001b[1mfrozenlist\u001b[0m\u001b[2m==1.4.1\u001b[0m\n",
      " \u001b[32m+\u001b[39m \u001b[1midna\u001b[0m\u001b[2m==3.8\u001b[0m\n",
      " \u001b[32m+\u001b[39m \u001b[1mlightning\u001b[0m\u001b[2m==2.4.0\u001b[0m\n",
      " \u001b[32m+\u001b[39m \u001b[1mlightning-utilities\u001b[0m\u001b[2m==0.11.6\u001b[0m\n",
      " \u001b[32m+\u001b[39m \u001b[1mmultidict\u001b[0m\u001b[2m==6.0.5\u001b[0m\n",
      " \u001b[32m+\u001b[39m \u001b[1mpytorch-lightning\u001b[0m\u001b[2m==2.4.0\u001b[0m\n",
      " \u001b[32m+\u001b[39m \u001b[1mpyyaml\u001b[0m\u001b[2m==6.0.2\u001b[0m\n",
      " \u001b[32m+\u001b[39m \u001b[1msetuptools\u001b[0m\u001b[2m==74.0.0\u001b[0m\n",
      " \u001b[32m+\u001b[39m \u001b[1mtorchmetrics\u001b[0m\u001b[2m==1.4.1\u001b[0m\n",
      " \u001b[32m+\u001b[39m \u001b[1mtqdm\u001b[0m\u001b[2m==4.66.5\u001b[0m\n",
      " \u001b[32m+\u001b[39m \u001b[1myarl\u001b[0m\u001b[2m==1.9.4\u001b[0m\n",
      "\u001b[2K\u001b[2mResolved \u001b[1m19 packages\u001b[0m in 318ms\u001b[0m                                                \u001b[0m\n",
      "\u001b[2K\u001b[37m⠙\u001b[0m \u001b[2mDownloading packages...\u001b[0m (0/1)                                                 \n",
      "\u001b[2K\u001b[1A\u001b[37m⠙\u001b[0m \u001b[2mDownloading packages...\u001b[0m (0/1)--\u001b[0m\u001b[0m     0 B/167.32 kB                     \u001b[1A\n",
      "\u001b[2K\u001b[1A\u001b[37m⠙\u001b[0m \u001b[2mDownloading packages...\u001b[0m (0/1)--\u001b[0m\u001b[0m 2.76 kB/167.32 kB                     \u001b[1A\n",
      "\u001b[2K\u001b[1A\u001b[37m⠙\u001b[0m \u001b[2mDownloading packages...\u001b[0m (0/1)--\u001b[0m\u001b[0m 6.89 kB/167.32 kB                     \u001b[1A\n",
      "\u001b[2K\u001b[1A\u001b[37m⠙\u001b[0m \u001b[2mDownloading packages...\u001b[0m (0/1)--\u001b[0m\u001b[0m 11.02 kB/167.32 kB                    \u001b[1A\n",
      "\u001b[2K\u001b[1A\u001b[37m⠙\u001b[0m \u001b[2mDownloading packages...\u001b[0m (0/1)--\u001b[0m\u001b[0m 15.16 kB/167.32 kB                    \u001b[1A\n",
      "\u001b[2K\u001b[1A\u001b[37m⠙\u001b[0m \u001b[2mDownloading packages...\u001b[0m (0/1)--\u001b[0m\u001b[0m 16.54 kB/167.32 kB                    \u001b[1A\n",
      "\u001b[2K\u001b[1A\u001b[37m⠙\u001b[0m \u001b[2mDownloading packages...\u001b[0m (0/1)--\u001b[0m\u001b[0m 19.29 kB/167.32 kB                    \u001b[1A\n",
      "\u001b[2K\u001b[1A\u001b[37m⠙\u001b[0m \u001b[2mDownloading packages...\u001b[0m (0/1)--\u001b[0m\u001b[0m 22.05 kB/167.32 kB                    \u001b[1A\n",
      "\u001b[2K\u001b[1A\u001b[37m⠙\u001b[0m \u001b[2mDownloading packages...\u001b[0m (0/1)--\u001b[0m\u001b[0m 26.18 kB/167.32 kB                    \u001b[1A\n",
      "\u001b[2K\u001b[1A\u001b[37m⠙\u001b[0m \u001b[2mDownloading packages...\u001b[0m (0/1)--\u001b[0m\u001b[0m 30.32 kB/167.32 kB                    \u001b[1A\n",
      "\u001b[2K\u001b[1A\u001b[37m⠙\u001b[0m \u001b[2mDownloading packages...\u001b[0m (0/1)--\u001b[0m\u001b[0m 33.07 kB/167.32 kB                    \u001b[1A\n",
      "\u001b[2K\u001b[1A\u001b[37m⠙\u001b[0m \u001b[2mDownloading packages...\u001b[0m (0/1)--\u001b[0m\u001b[0m 37.21 kB/167.32 kB                    \u001b[1A\n",
      "\u001b[2K\u001b[1A\u001b[37m⠙\u001b[0m \u001b[2mDownloading packages...\u001b[0m (0/1)--\u001b[0m\u001b[0m 39.96 kB/167.32 kB                    \u001b[1A\n",
      "\u001b[2K\u001b[1A\u001b[37m⠙\u001b[0m \u001b[2mDownloading packages...\u001b[0m (0/1)--\u001b[0m\u001b[0m 42.72 kB/167.32 kB                    \u001b[1A\n",
      "\u001b[2K\u001b[1A\u001b[37m⠙\u001b[0m \u001b[2mDownloading packages...\u001b[0m (0/1)--\u001b[0m\u001b[0m 46.85 kB/167.32 kB                    \u001b[1A\n",
      "\u001b[2K\u001b[1A\u001b[37m⠙\u001b[0m \u001b[2mDownloading packages...\u001b[0m (0/1)--\u001b[0m\u001b[0m 50.99 kB/167.32 kB                    \u001b[1A\n",
      "\u001b[2K\u001b[2mDownloaded \u001b[1m1 package\u001b[0m in 48ms\u001b[0m0m (0/1)                                                 \u001b[1A\n",
      "\u001b[2K\u001b[2mInstalled \u001b[1m13 packages\u001b[0m in 49ms\u001b[0m2                                      \u001b[0m\n",
      " \u001b[32m+\u001b[39m \u001b[1mcertifi\u001b[0m\u001b[2m==2024.8.30\u001b[0m\n",
      " \u001b[32m+\u001b[39m \u001b[1mcharset-normalizer\u001b[0m\u001b[2m==3.3.2\u001b[0m\n",
      " \u001b[32m+\u001b[39m \u001b[1mclick\u001b[0m\u001b[2m==8.1.7\u001b[0m\n",
      " \u001b[32m+\u001b[39m \u001b[1mdocker-pycreds\u001b[0m\u001b[2m==0.4.0\u001b[0m\n",
      " \u001b[32m+\u001b[39m \u001b[1mgitdb\u001b[0m\u001b[2m==4.0.11\u001b[0m\n",
      " \u001b[32m+\u001b[39m \u001b[1mgitpython\u001b[0m\u001b[2m==3.1.43\u001b[0m\n",
      " \u001b[32m+\u001b[39m \u001b[1mprotobuf\u001b[0m\u001b[2m==5.28.0\u001b[0m\n",
      " \u001b[32m+\u001b[39m \u001b[1mrequests\u001b[0m\u001b[2m==2.32.3\u001b[0m\n",
      " \u001b[32m+\u001b[39m \u001b[1msentry-sdk\u001b[0m\u001b[2m==2.13.0\u001b[0m\n",
      " \u001b[32m+\u001b[39m \u001b[1msetproctitle\u001b[0m\u001b[2m==1.3.3\u001b[0m\n",
      " \u001b[32m+\u001b[39m \u001b[1msmmap\u001b[0m\u001b[2m==5.0.1\u001b[0m\n",
      " \u001b[32m+\u001b[39m \u001b[1murllib3\u001b[0m\u001b[2m==2.2.2\u001b[0m\n",
      " \u001b[32m+\u001b[39m \u001b[1mwandb\u001b[0m\u001b[2m==0.17.8\u001b[0m\n",
      "\u001b[2K\u001b[2mResolved \u001b[1m9 packages\u001b[0m in 109ms\u001b[0m                                                 \u001b[0m\n",
      "\u001b[2K\u001b[2mInstalled \u001b[1m5 packages\u001b[0m in 33ms\u001b[0m                                        \u001b[0m\n",
      " \u001b[32m+\u001b[39m \u001b[1mimageio\u001b[0m\u001b[2m==2.35.1\u001b[0m\n",
      " \u001b[32m+\u001b[39m \u001b[1mlazy-loader\u001b[0m\u001b[2m==0.4\u001b[0m\n",
      " \u001b[32m+\u001b[39m \u001b[1mscikit-image\u001b[0m\u001b[2m==0.24.0\u001b[0m\n",
      " \u001b[32m+\u001b[39m \u001b[1mscipy\u001b[0m\u001b[2m==1.14.1\u001b[0m\n",
      " \u001b[32m+\u001b[39m \u001b[1mtifffile\u001b[0m\u001b[2m==2024.8.28\u001b[0m\n",
      "\u001b[2K\u001b[2mResolved \u001b[1m6 packages\u001b[0m in 284ms\u001b[0m                                                 \u001b[0m\n",
      "\u001b[2K\u001b[2mInstalled \u001b[1m4 packages\u001b[0m in 19ms\u001b[0m                                        \u001b[0m\n",
      " \u001b[32m+\u001b[39m \u001b[1mjax\u001b[0m\u001b[2m==0.4.31\u001b[0m\n",
      " \u001b[32m+\u001b[39m \u001b[1mjaxlib\u001b[0m\u001b[2m==0.4.31\u001b[0m\n",
      " \u001b[32m+\u001b[39m \u001b[1mml-dtypes\u001b[0m\u001b[2m==0.4.0\u001b[0m\n",
      " \u001b[32m+\u001b[39m \u001b[1mopt-einsum\u001b[0m\u001b[2m==3.3.0\u001b[0m\n",
      "\u001b[2K\u001b[2mResolved \u001b[1m11 packages\u001b[0m in 224ms\u001b[0m                                                \u001b[0m\n",
      "\u001b[2K\u001b[2mInstalled \u001b[1m6 packages\u001b[0m in 25ms\u001b[0m.9.2                                    \u001b[0m\n",
      " \u001b[32m+\u001b[39m \u001b[1mcontourpy\u001b[0m\u001b[2m==1.3.0\u001b[0m\n",
      " \u001b[32m+\u001b[39m \u001b[1mcycler\u001b[0m\u001b[2m==0.12.1\u001b[0m\n",
      " \u001b[32m+\u001b[39m \u001b[1mfonttools\u001b[0m\u001b[2m==4.53.1\u001b[0m\n",
      " \u001b[32m+\u001b[39m \u001b[1mkiwisolver\u001b[0m\u001b[2m==1.4.5\u001b[0m\n",
      " \u001b[32m+\u001b[39m \u001b[1mmatplotlib\u001b[0m\u001b[2m==3.9.2\u001b[0m\n",
      " \u001b[32m+\u001b[39m \u001b[1mpyparsing\u001b[0m\u001b[2m==3.1.4\u001b[0m\n",
      "\u001b[2K\u001b[2mResolved \u001b[1m15 packages\u001b[0m in 160ms\u001b[0m                                                \u001b[0m\n",
      "\u001b[2K\u001b[2mInstalled \u001b[1m4 packages\u001b[0m in 90ms\u001b[0m                                        \u001b[0m\n",
      " \u001b[32m+\u001b[39m \u001b[1mpandas\u001b[0m\u001b[2m==2.2.2\u001b[0m\n",
      " \u001b[32m+\u001b[39m \u001b[1mpytz\u001b[0m\u001b[2m==2024.1\u001b[0m\n",
      " \u001b[32m+\u001b[39m \u001b[1mseaborn\u001b[0m\u001b[2m==0.13.2\u001b[0m\n",
      " \u001b[32m+\u001b[39m \u001b[1mtzdata\u001b[0m\u001b[2m==2024.1\u001b[0m\n",
      "\u001b[2K\u001b[2mResolved \u001b[1m10 packages\u001b[0m in 143ms\u001b[0m                                                \u001b[0m\n",
      "\u001b[2K\u001b[2mInstalled \u001b[1m3 packages\u001b[0m in 4ms\u001b[0m.13.3                                    \u001b[0m\n",
      " \u001b[32m+\u001b[39m \u001b[1mequinox\u001b[0m\u001b[2m==0.11.5\u001b[0m\n",
      " \u001b[32m+\u001b[39m \u001b[1mjaxtyping\u001b[0m\u001b[2m==0.2.33\u001b[0m\n",
      " \u001b[32m+\u001b[39m \u001b[1mtypeguard\u001b[0m\u001b[2m==2.13.3\u001b[0m\n",
      "\u001b[2mAudited \u001b[1m1 package\u001b[0m in 1ms\u001b[0m\n",
      "\u001b[2K\u001b[2mResolved \u001b[1m12 packages\u001b[0m in 206ms\u001b[0m                                                \u001b[0m\n",
      "\u001b[2K\u001b[37m⠙\u001b[0m \u001b[2mDownloading packages...\u001b[0m (0/1)                                                 \n",
      "\u001b[2K\u001b[1A\u001b[37m⠙\u001b[0m \u001b[2mDownloading packages...\u001b[0m (0/1)--\u001b[0m\u001b[0m     0 B/289.65 kB                     \u001b[1A\n",
      "\u001b[2K\u001b[1A\u001b[37m⠙\u001b[0m \u001b[2mDownloading packages...\u001b[0m (0/1)--\u001b[0m\u001b[0m 2.76 kB/289.65 kB                     \u001b[1A\n",
      "\u001b[2K\u001b[1A\u001b[37m⠙\u001b[0m \u001b[2mDownloading packages...\u001b[0m (0/1)--\u001b[0m\u001b[0m 6.89 kB/289.65 kB                     \u001b[1A\n",
      "\u001b[2K\u001b[1A\u001b[37m⠙\u001b[0m \u001b[2mDownloading packages...\u001b[0m (0/1)--\u001b[0m\u001b[0m 8.95 kB/289.65 kB                     \u001b[1A\n",
      "\u001b[2K\u001b[1A\u001b[37m⠙\u001b[0m \u001b[2mDownloading packages...\u001b[0m (0/1)--\u001b[0m\u001b[0m 17.14 kB/289.65 kB                    \u001b[1A\n",
      "\u001b[2K\u001b[1A\u001b[37m⠙\u001b[0m \u001b[2mDownloading packages...\u001b[0m (0/1)--\u001b[0m\u001b[0m 25.33 kB/289.65 kB                    \u001b[1A\n",
      "\u001b[2K\u001b[1A\u001b[37m⠙\u001b[0m \u001b[2mDownloading packages...\u001b[0m (0/1)--\u001b[0m\u001b[0m 41.72 kB/289.65 kB                    \u001b[1A\n",
      "\u001b[2K\u001b[1A\u001b[37m⠙\u001b[0m \u001b[2mDownloading packages...\u001b[0m (0/1)--\u001b[0m\u001b[0m 58.10 kB/289.65 kB                    \u001b[1A\n",
      "\u001b[2K\u001b[1A\u001b[37m⠙\u001b[0m \u001b[2mDownloading packages...\u001b[0m (0/1)--\u001b[0m\u001b[0m 74.48 kB/289.65 kB                    \u001b[1A\n",
      "\u001b[2K\u001b[1A\u001b[37m⠙\u001b[0m \u001b[2mDownloading packages...\u001b[0m (0/1)--\u001b[0m\u001b[0m 90.87 kB/289.65 kB                    \u001b[1A\n",
      "\u001b[2K\u001b[1A\u001b[37m⠙\u001b[0m \u001b[2mDownloading packages...\u001b[0m (0/1)--\u001b[0m\u001b[0m 107.25 kB/289.65 kB                   \u001b[1A\n",
      "\u001b[2K\u001b[1A\u001b[37m⠙\u001b[0m \u001b[2mDownloading packages...\u001b[0m (0/1)--\u001b[0m\u001b[0m 123.64 kB/289.65 kB                   \u001b[1A\n",
      "\u001b[2K\u001b[1A\u001b[37m⠙\u001b[0m \u001b[2mDownloading packages...\u001b[0m (0/1)--\u001b[0m\u001b[0m 140.02 kB/289.65 kB                   \u001b[1A\n",
      "\u001b[2K\u001b[1A\u001b[37m⠙\u001b[0m \u001b[2mDownloading packages...\u001b[0m (0/1)--\u001b[0m\u001b[0m 156.40 kB/289.65 kB                   \u001b[1A\n",
      "\u001b[2K\u001b[1A\u001b[37m⠙\u001b[0m \u001b[2mDownloading packages...\u001b[0m (0/1)--\u001b[0m\u001b[0m 172.79 kB/289.65 kB                   \u001b[1A\n",
      "\u001b[2K\u001b[1A\u001b[37m⠙\u001b[0m \u001b[2mDownloading packages...\u001b[0m (0/1)--\u001b[0m\u001b[0m 189.17 kB/289.65 kB                   \u001b[1A\n",
      "\u001b[2K\u001b[1A\u001b[37m⠙\u001b[0m \u001b[2mDownloading packages...\u001b[0m (0/1)--\u001b[0m\u001b[0m 205.56 kB/289.65 kB                   \u001b[1A\n",
      "\u001b[2K\u001b[2mDownloaded \u001b[1m1 package\u001b[0m in 60ms\u001b[0m0m (0/1)                                                 \u001b[1A\n",
      "\u001b[2K\u001b[2mInstalled \u001b[1m5 packages\u001b[0m in 9ms\u001b[0m.0                                       \u001b[0m\n",
      " \u001b[32m+\u001b[39m \u001b[1mabsl-py\u001b[0m\u001b[2m==2.1.0\u001b[0m\n",
      " \u001b[32m+\u001b[39m \u001b[1mchex\u001b[0m\u001b[2m==0.1.86\u001b[0m\n",
      " \u001b[32m+\u001b[39m \u001b[1metils\u001b[0m\u001b[2m==1.9.2\u001b[0m\n",
      " \u001b[32m+\u001b[39m \u001b[1moptax\u001b[0m\u001b[2m==0.2.3\u001b[0m\n",
      " \u001b[32m+\u001b[39m \u001b[1mtoolz\u001b[0m\u001b[2m==0.12.1\u001b[0m\n"
     ]
    }
   ],
   "source": [
    "!uv pip install torch torchvision\n",
    "!uv pip install lightning\n",
    "!uv pip install wandb\n",
    "!uv pip install scikit-image\n",
    "!uv pip install jax\n",
    "!uv pip install matplotlib\n",
    "!uv pip install seaborn\n",
    "!uv pip install equinox\n",
    "!uv pip install jaxtyping\n",
    "!uv pip install optax"
   ]
  },
  {
   "cell_type": "code",
   "execution_count": 1,
   "metadata": {},
   "outputs": [],
   "source": [
    "import wandb\n",
    "\n",
    "import torch\n",
    "import torch.utils.data as data_utils\n",
    "import torchvision\n",
    "\n",
    "import jax\n",
    "import jax.numpy as jnp\n",
    "import equinox as eqx\n",
    "import optax\n",
    "\n",
    "\n",
    "from torchvision import transforms\n",
    "from torchvision.datasets import CIFAR10\n",
    "\n",
    "# Path to the folder where the datasets are/should be downloaded (e.g. CIFAR10)\n",
    "DATASET_PATH = \"./data\"\n",
    "# Path to the folder where the pretrained models are saved\n",
    "CHECKPOINT_PATH = \"./saved_models/ebm\"\n",
    "NOISE_LEVEL = 0.1\n",
    "SEED = 5678\n",
    "\n",
    "key = jax.random.PRNGKey(SEED)"
   ]
  },
  {
   "cell_type": "code",
   "execution_count": 2,
   "metadata": {},
   "outputs": [
    {
     "name": "stderr",
     "output_type": "stream",
     "text": [
      "Failed to detect the name of this notebook, you can set it manually with the WANDB_NOTEBOOK_NAME environment variable to enable code saving.\n",
      "\u001b[34m\u001b[1mwandb\u001b[0m: Currently logged in as: \u001b[33mwc5118\u001b[0m (\u001b[33miclac\u001b[0m). Use \u001b[1m`wandb login --relogin`\u001b[0m to force relogin\n"
     ]
    },
    {
     "data": {
      "text/plain": [
       "True"
      ]
     },
     "execution_count": 2,
     "metadata": {},
     "output_type": "execute_result"
    }
   ],
   "source": [
    "wandb.login()\n"
   ]
  },
  {
   "cell_type": "code",
   "execution_count": 3,
   "metadata": {},
   "outputs": [
    {
     "name": "stdout",
     "output_type": "stream",
     "text": [
      "Files already downloaded and verified\n",
      "Files already downloaded and verified\n"
     ]
    }
   ],
   "source": [
    "transform = transforms.Compose([transforms.ToTensor(),\n",
    "                                transforms.Normalize((0.5,), (0.5,))\n",
    "                               ])\n",
    "\n",
    "# Loading the training dataset. We need to split it into a training and validation part\n",
    "train_set = CIFAR10(root=DATASET_PATH, train=True, transform=transform, download=True)\n",
    "\n",
    "# Loading the test set\n",
    "test_set = CIFAR10(root=DATASET_PATH, train=False, transform=transform, download=True)"
   ]
  },
  {
   "cell_type": "code",
   "execution_count": 4,
   "metadata": {},
   "outputs": [],
   "source": [
    "train_loader = data_utils.DataLoader(train_set, batch_size=64, shuffle=True,  drop_last=True,  num_workers=4, pin_memory=True)\n",
    "test_loader  = data_utils.DataLoader(test_set,  batch_size=128, shuffle=False, drop_last=False, num_workers=4)"
   ]
  },
  {
   "cell_type": "code",
   "execution_count": 5,
   "metadata": {},
   "outputs": [
    {
     "name": "stdout",
     "output_type": "stream",
     "text": [
      "(64, 3, 32, 32)\n",
      "(64,)\n",
      "[1 2 8 0 3 7 7 3 9 9 7 2 5 4 4 9 8 4 5 9 4 8 6 5 2 8 5 5 6 6 6 7 0 1 6 6 4\n",
      " 7 3 0 9 3 1 5 3 9 9 6 3 4 3 1 1 1 6 2 6 1 6 3 2 2 7 3]\n"
     ]
    }
   ],
   "source": [
    "dummy_x, dummy_y = next(iter(train_loader))\n",
    "dummy_x = dummy_x.numpy()\n",
    "dummy_y = dummy_y.numpy()\n",
    "print(dummy_x.shape)  # 64x3x32x32\n",
    "print(dummy_y.shape)  # 64\n",
    "print(dummy_y)"
   ]
  },
  {
   "cell_type": "code",
   "execution_count": 6,
   "metadata": {},
   "outputs": [],
   "source": [
    "class CNN(eqx.Module):\n",
    "    layers: list\n",
    "    input_channels: int\n",
    "    hidden_features: int\n",
    "    depth: int\n",
    "    out_dim: int\n",
    "    activation_fn: callable\n",
    "    pool_type: str\n",
    "    pool_every: int\n",
    "    kernel_size: int\n",
    "    stride: int\n",
    "    padding: int\n",
    "    final_pooling: bool\n",
    "    input_size: tuple\n",
    "\n",
    "    def __init__(self, key, \n",
    "                 input_channels=3, \n",
    "                 hidden_features=64, \n",
    "                 depth=4, \n",
    "                 out_dim=1, \n",
    "                 activation_fn=jax.nn.swish, \n",
    "                 pool_type='max', \n",
    "                 pool_every=2, \n",
    "                 kernel_size=3,\n",
    "                 stride=1,\n",
    "                 padding=1,\n",
    "                 final_pooling=True,\n",
    "                 input_size=(32, 32)):\n",
    "        \n",
    "        self.input_channels = input_channels\n",
    "        self.hidden_features = hidden_features\n",
    "        self.depth = depth\n",
    "        self.out_dim = out_dim\n",
    "        self.activation_fn = activation_fn\n",
    "        self.pool_type = pool_type\n",
    "        self.pool_every = pool_every\n",
    "        self.kernel_size = kernel_size\n",
    "        self.stride = stride\n",
    "        self.padding = padding\n",
    "        self.final_pooling = final_pooling\n",
    "        self.input_size = input_size\n",
    "\n",
    "        keys = jax.random.split(key, depth + 2)  # +2 for final linear layers\n",
    "        \n",
    "        self.layers = []\n",
    "        in_channels = input_channels\n",
    "        current_height, current_width = input_size\n",
    "        \n",
    "        for i in range(depth):\n",
    "            out_channels = hidden_features * (2 ** i)\n",
    "            self.layers.append(eqx.nn.Conv2d(in_channels, out_channels, kernel_size=kernel_size, stride=stride, padding=padding, key=keys[i]))\n",
    "            self.layers.append(activation_fn)\n",
    "            in_channels = out_channels\n",
    "\n",
    "            current_height = (current_height - kernel_size + 2 * padding) // stride + 1\n",
    "            current_width = (current_width - kernel_size + 2 * padding) // stride + 1\n",
    "\n",
    "            if (i + 1) % pool_every == 0:\n",
    "                if pool_type == 'max':\n",
    "                    self.layers.append(eqx.nn.MaxPool2d(kernel_size=2, stride=2))\n",
    "                elif pool_type == 'avg':\n",
    "                    self.layers.append(eqx.nn.AvgPool2d(kernel_size=2, stride=2))\n",
    "                current_height //= 2\n",
    "                current_width //= 2\n",
    "\n",
    "        if final_pooling:\n",
    "            if pool_type == 'max':\n",
    "                self.layers.append(eqx.nn.MaxPool2d(kernel_size=2, stride=2))\n",
    "            elif pool_type == 'avg':\n",
    "                self.layers.append(eqx.nn.AvgPool2d(kernel_size=2, stride=2))\n",
    "            current_height //= 2\n",
    "            current_width //= 2\n",
    "\n",
    "        self.layers.append(jnp.ravel)\n",
    "\n",
    "        flattened_size = in_channels * current_height * current_width\n",
    "        self.layers.append(eqx.nn.Linear(flattened_size, in_channels, key=keys[-2]))\n",
    "        self.layers.append(activation_fn)\n",
    "        self.layers.append(eqx.nn.Linear(in_channels, out_dim, key=keys[-1]))\n",
    "\n",
    "    def __call__(self, x):\n",
    "        for layer in self.layers:\n",
    "            x = layer(x)\n",
    "        return x.squeeze(axis=-1)"
   ]
  },
  {
   "cell_type": "code",
   "execution_count": 7,
   "metadata": {},
   "outputs": [],
   "source": [
    "key, subkey = jax.random.split(key, 2)\n",
    "model = CNN(subkey)"
   ]
  },
  {
   "cell_type": "code",
   "execution_count": 9,
   "metadata": {},
   "outputs": [
    {
     "name": "stdout",
     "output_type": "stream",
     "text": [
      "CNN(\n",
      "  layers=[\n",
      "    Conv2d(\n",
      "      num_spatial_dims=2,\n",
      "      weight=f32[64,3,3,3],\n",
      "      bias=f32[64,1,1],\n",
      "      in_channels=3,\n",
      "      out_channels=64,\n",
      "      kernel_size=(3, 3),\n",
      "      stride=(1, 1),\n",
      "      padding=((1, 1), (1, 1)),\n",
      "      dilation=(1, 1),\n",
      "      groups=1,\n",
      "      use_bias=True,\n",
      "      padding_mode='ZEROS'\n",
      "    ),\n",
      "    <wrapped function silu>,\n",
      "    Conv2d(\n",
      "      num_spatial_dims=2,\n",
      "      weight=f32[128,64,3,3],\n",
      "      bias=f32[128,1,1],\n",
      "      in_channels=64,\n",
      "      out_channels=128,\n",
      "      kernel_size=(3, 3),\n",
      "      stride=(1, 1),\n",
      "      padding=((1, 1), (1, 1)),\n",
      "      dilation=(1, 1),\n",
      "      groups=1,\n",
      "      use_bias=True,\n",
      "      padding_mode='ZEROS'\n",
      "    ),\n",
      "    <wrapped function silu>,\n",
      "    MaxPool2d(\n",
      "      init=-inf,\n",
      "      operation=<function max>,\n",
      "      num_spatial_dims=2,\n",
      "      kernel_size=(2, 2),\n",
      "      stride=(2, 2),\n",
      "      padding=((0, 0), (0, 0)),\n",
      "      use_ceil=False\n",
      "    ),\n",
      "    Conv2d(\n",
      "      num_spatial_dims=2,\n",
      "      weight=f32[256,128,3,3],\n",
      "      bias=f32[256,1,1],\n",
      "      in_channels=128,\n",
      "      out_channels=256,\n",
      "      kernel_size=(3, 3),\n",
      "      stride=(1, 1),\n",
      "      padding=((1, 1), (1, 1)),\n",
      "      dilation=(1, 1),\n",
      "      groups=1,\n",
      "      use_bias=True,\n",
      "      padding_mode='ZEROS'\n",
      "    ),\n",
      "    <wrapped function silu>,\n",
      "    Conv2d(\n",
      "      num_spatial_dims=2,\n",
      "      weight=f32[512,256,3,3],\n",
      "      bias=f32[512,1,1],\n",
      "      in_channels=256,\n",
      "      out_channels=512,\n",
      "      kernel_size=(3, 3),\n",
      "      stride=(1, 1),\n",
      "      padding=((1, 1), (1, 1)),\n",
      "      dilation=(1, 1),\n",
      "      groups=1,\n",
      "      use_bias=True,\n",
      "      padding_mode='ZEROS'\n",
      "    ),\n",
      "    <wrapped function silu>,\n",
      "    MaxPool2d(\n",
      "      init=-inf,\n",
      "      operation=<function max>,\n",
      "      num_spatial_dims=2,\n",
      "      kernel_size=(2, 2),\n",
      "      stride=(2, 2),\n",
      "      padding=((0, 0), (0, 0)),\n",
      "      use_ceil=False\n",
      "    ),\n",
      "    MaxPool2d(\n",
      "      init=-inf,\n",
      "      operation=<function max>,\n",
      "      num_spatial_dims=2,\n",
      "      kernel_size=(2, 2),\n",
      "      stride=(2, 2),\n",
      "      padding=((0, 0), (0, 0)),\n",
      "      use_ceil=False\n",
      "    ),\n",
      "    <wrapped function ravel>,\n",
      "    Linear(\n",
      "      weight=f32[512,8192],\n",
      "      bias=f32[512],\n",
      "      in_features=8192,\n",
      "      out_features=512,\n",
      "      use_bias=True\n",
      "    ),\n",
      "    <wrapped function silu>,\n",
      "    Linear(\n",
      "      weight=f32[1,512],\n",
      "      bias=f32[1],\n",
      "      in_features=512,\n",
      "      out_features=1,\n",
      "      use_bias=True\n",
      "    )\n",
      "  ],\n",
      "  input_channels=3,\n",
      "  hidden_features=64,\n",
      "  depth=4,\n",
      "  out_dim=1,\n",
      "  activation_fn=<wrapped function silu>,\n",
      "  pool_type='max',\n",
      "  pool_every=2,\n",
      "  kernel_size=3,\n",
      "  stride=1,\n",
      "  padding=1,\n",
      "  final_pooling=True,\n",
      "  input_size=(32, 32)\n",
      ")\n"
     ]
    }
   ],
   "source": [
    "print(model)"
   ]
  },
  {
   "cell_type": "code",
   "execution_count": 14,
   "metadata": {},
   "outputs": [],
   "source": [
    "def stein_score(model, x):\n",
    "    score_fn = jax.grad(model, argnums=0)\n",
    "    return score_fn(x)\n",
    "\n",
    "def denoising_score_matching_loss(model, x, key):\n",
    "    noise = jax.random.normal(key, x.shape) * NOISE_LEVEL\n",
    "    x_noisy = x + noise\n",
    "    scores = jax.vmap(stein_score, in_axes=(None, 0))(model, x_noisy)\n",
    "    loss = 0.5 * jnp.mean(jnp.linalg.norm(jnp.reshape(scores + (noise / NOISE_LEVEL), (scores.shape[0], -1)), axis=1, ord=2) ** 2)\n",
    "\n",
    "    return loss\n",
    "\n",
    "def sample_langevin_dynamics(key, model, x, num_steps=10, step_size=0.01):\n",
    "    def step(i, x):\n",
    "        noise = jax.random.normal(jax.random.fold_in(key, i), shape=x.shape)\n",
    "        grad = stein_score(model, x)\n",
    "        x = x - (step_size / 2.) * grad + jnp.sqrt(step_size) * noise\n",
    "        return x\n",
    "    \n",
    "    return jax.lax.fori_loop(0, num_steps, step, x)\n",
    "\n",
    "vectorized_sample_langevin_dynamics = eqx.filter_jit(jax.vmap(sample_langevin_dynamics, in_axes=(0, None, 0)))\n",
    "\n",
    "\n",
    "def sample_images(key, model, num_samples=32):\n",
    "    z = jax.random.normal(key, (num_samples, 3, 32, 32))\n",
    "    samples = vectorized_sample_langevin_dynamics(jax.random.split(key, num_samples), model, z)\n",
    "    return samples"
   ]
  },
  {
   "cell_type": "code",
   "execution_count": null,
   "metadata": {},
   "outputs": [],
   "source": [
    "batch_size, channels, height, width = x.shape  # Unpack dimensions\n",
    "input_dim = channels * height * width\n",
    "\n",
    "# Repeat x for num_slices slices\n",
    "x = jnp.tile(x[:, None, :, :, :], (1, num_slices, 1, 1, 1)).reshape(\n",
    "    -1, channels, height, width\n",
    ")\n",
    "\n",
    "# Generate random projection vectors\n",
    "key, subkey = jax.random.split(key)\n",
    "vectors = jax.random.normal(subkey, shape=x.shape)\n",
    "vectors = vectors / (jnp.linalg.norm(vectors, axis=(1, 2, 3), keepdims=True) + 1e-8)\n",
    "\n",
    "h_x, h_x_v = eqx.filter_jvp(jax.vmap(model), (x,), (vectors,))\n",
    "\n",
    "# Compute loss components\n",
    "loss_1 = jnp.sum(h_x_v * vectors, axis=(-3, -2, -1))\n",
    "loss_2 = 0.5 * jnp.sum(h_x * vectors, axis=(-3, -2, -1)) ** 2\n",
    "\n",
    "loss = loss_1 + loss_2"
   ]
  },
  {
   "cell_type": "code",
   "execution_count": 27,
   "metadata": {},
   "outputs": [],
   "source": [
    "batch_size, channels, height, width = dummy_x.shape\n",
    "input_dim = channels * height * width\n",
    "\n",
    "x = jnp.tile(dummy_x[:, None, :, :, :], (1, 5, 1, 1, 1)).reshape(\n",
    "    -1, channels, height, width\n",
    ")\n",
    "\n",
    "key, subkey = jax.random.split(key)\n",
    "vectors = jax.random.normal(subkey, shape=x.shape)\n",
    "vectors = vectors / (jnp.sqrt(jnp.sum(vectors ** 2, axis=(1, 2, 3), keepdims=True)) + 1e-8)"
   ]
  },
  {
   "cell_type": "code",
   "execution_count": 29,
   "metadata": {},
   "outputs": [
    {
     "data": {
      "text/plain": [
       "(Array(-0.00144907, dtype=float32), Array(3.3390643e-07, dtype=float32))"
      ]
     },
     "execution_count": 29,
     "metadata": {},
     "output_type": "execute_result"
    }
   ],
   "source": [
    "eqx.filter_jvp(model, (x[0],), (vectors[0],))"
   ]
  },
  {
   "cell_type": "code",
   "execution_count": 26,
   "metadata": {},
   "outputs": [
    {
     "data": {
      "text/plain": [
       "(320, 1, 1, 1)"
      ]
     },
     "execution_count": 26,
     "metadata": {},
     "output_type": "execute_result"
    }
   ],
   "source": [
    "jnp.sqrt(jnp.sum(vectors ** 2, axis=(1, 2, 3), keepdims=True)).shape"
   ]
  },
  {
   "cell_type": "code",
   "execution_count": 31,
   "metadata": {},
   "outputs": [
    {
     "name": "stdout",
     "output_type": "stream",
     "text": [
      "(64, 3, 32, 32)\n"
     ]
    }
   ],
   "source": [
    "value, grads = eqx.filter_value_and_grad(denoising_score_matching_loss)(model, dummy_x, key)"
   ]
  },
  {
   "cell_type": "code",
   "execution_count": 11,
   "metadata": {},
   "outputs": [
    {
     "data": {
      "text/plain": [
       "(5, 3, 32, 32)"
      ]
     },
     "execution_count": 11,
     "metadata": {},
     "output_type": "execute_result"
    }
   ],
   "source": [
    "vectorized_sample_langevin_dynamics(key, model, dummy_x[:5]).shape"
   ]
  },
  {
   "cell_type": "code",
   "execution_count": 15,
   "metadata": {},
   "outputs": [
    {
     "data": {
      "text/plain": [
       "(32, 3, 32, 32)"
      ]
     },
     "execution_count": 15,
     "metadata": {},
     "output_type": "execute_result"
    }
   ],
   "source": [
    "samples = sample_images(key, model, num_samples=12)"
   ]
  },
  {
   "cell_type": "code",
   "execution_count": 12,
   "metadata": {},
   "outputs": [],
   "source": [
    "def train(\n",
    "    model: CNN,\n",
    "    trainloader: torch.utils.data.DataLoader,\n",
    "    testloader: torch.utils.data.DataLoader,\n",
    "    optim: optax.GradientTransformation,\n",
    "    key,\n",
    "    epochs: int = 100,\n",
    "    print_every: int = 100\n",
    ") -> CNN:\n",
    "    opt_state = optim.init(eqx.filter(model, eqx.is_array))\n",
    "\n",
    "    @eqx.filter_jit\n",
    "    def make_step(\n",
    "        model: CNN,\n",
    "        opt_state,\n",
    "        x,\n",
    "        key\n",
    "    ):\n",
    "        loss_value, grads = eqx.filter_value_and_grad(denoising_score_matching_loss)(model, x, key)\n",
    "        updates, opt_state = optim.update(grads, opt_state, model)\n",
    "        model = eqx.apply_updates(model, updates)\n",
    "        return model, opt_state, loss_value\n",
    "\n",
    "    step = 0\n",
    "    for epoch in range(epochs):\n",
    "        for x, _ in train_loader:\n",
    "            x = x.numpy()\n",
    "            subkey, key = jax.random.split(key)\n",
    "            model, opt_state, train_loss = make_step(model, opt_state, x, subkey)\n",
    "            step += 1\n",
    "            if step % print_every == 0:\n",
    "                print(f\"{step=}, train_loss={train_loss.item()}\")\n",
    "    \n",
    "    return model"
   ]
  },
  {
   "cell_type": "code",
   "execution_count": 13,
   "metadata": {},
   "outputs": [
    {
     "name": "stdout",
     "output_type": "stream",
     "text": [
      "step=0, train_loss=1526.641357421875\n",
      "step=1, train_loss=1536.654052734375\n",
      "step=2, train_loss=1526.6640625\n",
      "step=3, train_loss=1525.7783203125\n",
      "step=4, train_loss=1485.645263671875\n",
      "step=5, train_loss=1422.9149169921875\n",
      "step=6, train_loss=1352.9351806640625\n",
      "step=7, train_loss=1238.6435546875\n",
      "step=8, train_loss=1187.0799560546875\n",
      "step=9, train_loss=1146.7607421875\n",
      "step=10, train_loss=1072.43115234375\n",
      "step=11, train_loss=1043.5189208984375\n",
      "step=12, train_loss=1028.2183837890625\n",
      "step=13, train_loss=1025.9178466796875\n",
      "step=14, train_loss=1002.3946533203125\n",
      "step=15, train_loss=994.133544921875\n"
     ]
    },
    {
     "ename": "KeyboardInterrupt",
     "evalue": "",
     "output_type": "error",
     "traceback": [
      "\u001b[0;31m---------------------------------------------------------------------------\u001b[0m",
      "\u001b[0;31mKeyboardInterrupt\u001b[0m                         Traceback (most recent call last)",
      "Cell \u001b[0;32mIn[13], line 3\u001b[0m\n\u001b[1;32m      1\u001b[0m optim \u001b[38;5;241m=\u001b[39m optax\u001b[38;5;241m.\u001b[39madam(\u001b[38;5;241m1e-3\u001b[39m)\n\u001b[0;32m----> 3\u001b[0m \u001b[43mtrain\u001b[49m\u001b[43m(\u001b[49m\u001b[43mmodel\u001b[49m\u001b[43m,\u001b[49m\u001b[43m \u001b[49m\u001b[43mtrain_loader\u001b[49m\u001b[43m,\u001b[49m\u001b[43m \u001b[49m\u001b[43mtest_loader\u001b[49m\u001b[43m,\u001b[49m\u001b[43m \u001b[49m\u001b[43moptim\u001b[49m\u001b[43m,\u001b[49m\u001b[43m \u001b[49m\u001b[38;5;241;43m1000\u001b[39;49m\u001b[43m,\u001b[49m\u001b[43m \u001b[49m\u001b[38;5;241;43m100\u001b[39;49m\u001b[43m,\u001b[49m\u001b[43m \u001b[49m\u001b[43mkey\u001b[49m\u001b[43m)\u001b[49m\n",
      "Cell \u001b[0;32mIn[12], line 39\u001b[0m, in \u001b[0;36mtrain\u001b[0;34m(model, trainloader, testloader, optim, steps, print_every, key)\u001b[0m\n\u001b[1;32m     37\u001b[0m x \u001b[38;5;241m=\u001b[39m x\u001b[38;5;241m.\u001b[39mnumpy()\n\u001b[1;32m     38\u001b[0m subkey, key \u001b[38;5;241m=\u001b[39m jax\u001b[38;5;241m.\u001b[39mrandom\u001b[38;5;241m.\u001b[39msplit(key)\n\u001b[0;32m---> 39\u001b[0m model, opt_state, train_loss \u001b[38;5;241m=\u001b[39m \u001b[43mmake_step\u001b[49m\u001b[43m(\u001b[49m\u001b[43mmodel\u001b[49m\u001b[43m,\u001b[49m\u001b[43m \u001b[49m\u001b[43mopt_state\u001b[49m\u001b[43m,\u001b[49m\u001b[43m \u001b[49m\u001b[43mx\u001b[49m\u001b[43m,\u001b[49m\u001b[43m \u001b[49m\u001b[43mkey\u001b[49m\u001b[43m)\u001b[49m\n\u001b[1;32m     40\u001b[0m \u001b[38;5;28mprint\u001b[39m(\u001b[38;5;124mf\u001b[39m\u001b[38;5;124m\"\u001b[39m\u001b[38;5;132;01m{\u001b[39;00mstep\u001b[38;5;132;01m=}\u001b[39;00m\u001b[38;5;124m, train_loss=\u001b[39m\u001b[38;5;132;01m{\u001b[39;00mtrain_loss\u001b[38;5;241m.\u001b[39mitem()\u001b[38;5;132;01m}\u001b[39;00m\u001b[38;5;124m\"\u001b[39m)\n\u001b[1;32m     41\u001b[0m \u001b[38;5;66;03m# if (step % print_every) == 0 or (step == steps - 1):\u001b[39;00m\n\u001b[1;32m     42\u001b[0m \u001b[38;5;66;03m#     test_loss, test_accuracy = evaluate(model, testloader)\u001b[39;00m\n\u001b[1;32m     43\u001b[0m \u001b[38;5;66;03m#     print(\u001b[39;00m\n\u001b[1;32m     44\u001b[0m \u001b[38;5;66;03m#         f\"{step=}, train_loss={train_loss.item()}, \"\u001b[39;00m\n\u001b[1;32m     45\u001b[0m \u001b[38;5;66;03m#         f\"test_loss={test_loss.item()}, test_accuracy={test_accuracy.item()}\"\u001b[39;00m\n\u001b[1;32m     46\u001b[0m \u001b[38;5;66;03m#     )\u001b[39;00m\n",
      "    \u001b[0;31m[... skipping hidden 3 frame]\u001b[0m\n",
      "File \u001b[0;32m~/Documents/dev/ebm-sampling/.venv/lib/python3.11/site-packages/equinox/_module.py:935\u001b[0m, in \u001b[0;36m_unflatten_module\u001b[0;34m(cls, aux, dynamic_field_values)\u001b[0m\n\u001b[1;32m    925\u001b[0m     aux \u001b[38;5;241m=\u001b[39m _FlattenedData(\n\u001b[1;32m    926\u001b[0m         \u001b[38;5;28mtuple\u001b[39m(dynamic_field_names),\n\u001b[1;32m    927\u001b[0m         \u001b[38;5;28mtuple\u001b[39m(static_field_names),\n\u001b[0;32m   (...)\u001b[0m\n\u001b[1;32m    930\u001b[0m         \u001b[38;5;28mtuple\u001b[39m(wrapper_field_values),\n\u001b[1;32m    931\u001b[0m     )\n\u001b[1;32m    932\u001b[0m     \u001b[38;5;28;01mreturn\u001b[39;00m \u001b[38;5;28mtuple\u001b[39m(dynamic_field_values), aux\n\u001b[0;32m--> 935\u001b[0m \u001b[38;5;28;01mdef\u001b[39;00m \u001b[38;5;21m_unflatten_module\u001b[39m(\u001b[38;5;28mcls\u001b[39m: \u001b[38;5;28mtype\u001b[39m[\u001b[38;5;124m\"\u001b[39m\u001b[38;5;124mModule\u001b[39m\u001b[38;5;124m\"\u001b[39m], aux: _FlattenedData, dynamic_field_values):\n\u001b[1;32m    936\u001b[0m     \u001b[38;5;66;03m# This doesn't go via `__init__`. A user may have done something nontrivial there,\u001b[39;00m\n\u001b[1;32m    937\u001b[0m     \u001b[38;5;66;03m# and the field values may be dummy values as used in various places throughout JAX.\u001b[39;00m\n\u001b[1;32m    938\u001b[0m     \u001b[38;5;66;03m# See also\u001b[39;00m\n\u001b[1;32m    939\u001b[0m     \u001b[38;5;66;03m# https://jax.readthedocs.io/en/latest/pytrees.html#custom-pytrees-and-initialization,\u001b[39;00m\n\u001b[1;32m    940\u001b[0m     \u001b[38;5;66;03m# which was (I believe) inspired by Equinox's approach here.\u001b[39;00m\n\u001b[1;32m    941\u001b[0m     module \u001b[38;5;241m=\u001b[39m \u001b[38;5;28mobject\u001b[39m\u001b[38;5;241m.\u001b[39m\u001b[38;5;21m__new__\u001b[39m(\u001b[38;5;28mcls\u001b[39m)\n\u001b[1;32m    942\u001b[0m     \u001b[38;5;28;01mfor\u001b[39;00m name, value \u001b[38;5;129;01min\u001b[39;00m \u001b[38;5;28mzip\u001b[39m(aux\u001b[38;5;241m.\u001b[39mdynamic_field_names, dynamic_field_values):\n",
      "\u001b[0;31mKeyboardInterrupt\u001b[0m: "
     ]
    }
   ],
   "source": [
    "optim = optax.adam(1e-3)\n",
    "\n",
    "train(model, train_loader, test_loader, optim, key, 1000, 100)"
   ]
  },
  {
   "cell_type": "code",
   "execution_count": null,
   "metadata": {},
   "outputs": [],
   "source": []
  }
 ],
 "metadata": {
  "kernelspec": {
   "display_name": ".venv",
   "language": "python",
   "name": "python3"
  },
  "language_info": {
   "codemirror_mode": {
    "name": "ipython",
    "version": 3
   },
   "file_extension": ".py",
   "mimetype": "text/x-python",
   "name": "python",
   "nbconvert_exporter": "python",
   "pygments_lexer": "ipython3",
   "version": "3.11.8"
  }
 },
 "nbformat": 4,
 "nbformat_minor": 2
}
